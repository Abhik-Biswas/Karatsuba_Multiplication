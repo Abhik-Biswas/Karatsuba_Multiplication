{
 "cells": [
  {
   "cell_type": "code",
   "execution_count": 3,
   "metadata": {},
   "outputs": [],
   "source": [
    "\"\"\"Pseudocode\n",
    "binary base, can be changes to any base\n",
    "procedure karatsuba(x,y, length(x,y)):\n",
    "    if n==1:\n",
    "        return x*y\n",
    "    else:\n",
    "        m = n//2\n",
    "        x1, x0 = (x/2**m , xmod(2**m))\n",
    "        y1, y0 = (y/2**m , ymod(2**m))\n",
    "        p = karatsuba(x1,y1,m)\n",
    "        q = karatsuba(x0,y0,m)\n",
    "        r = karatsuba(x1-x0 , y1-y0)\n",
    "        return p*(2**n)+(p+q-r)*(2**(m))+q\"\"\"\n",
    "\n",
    "\"\"\"Above is easier for complexity analysis: Originally, it was suggested that 3 O(n) multiplications like the following be performed:\n",
    "(x1+x0)(y1+y0) = x1y1+(x0y1+y0x1)+x0y0 = r (say)\n",
    "Then, x0y1+y0x1 = r - x1y1-x0y0    and \n",
    "if x = x1*(2**(n//2))+x0 and x = y1*(2**(n//2))+y0, then\n",
    "xy = x1y12**n + (x1y0+y1x0)2**(n//2) + x0y0 \"\"\"\n",
    "\n",
    "def assign_values(x,y):  ## Values are base 10 here, for any other base, change where indicated, this is a helper function\n",
    "  n = max(len(str(x)), len(str(y)))//2\n",
    "  x1, x0 = x//(10**n) , x%(10**n)  ## change 10 to any other number corresponding to base\n",
    "  x1_plus_x0 = x1+x0      \n",
    "  y1, y0 = y//(10**n) , y%(10**n)\n",
    "  y1_plus_y0 = y1+y0\n",
    "  r = karatsuba(x1,y1)\n",
    "  s = karatsuba(x0,y0)\n",
    "  \n",
    "  return n, x1_plus_x0, y1_plus_y0, r , s\n",
    "\n",
    "def karatsuba(x,y):\n",
    "  if x<10 and y<10:\n",
    "    return x*y\n",
    "  else:\n",
    "    var1, var2, var3, var4, var5 = assign_values(x,y)\n",
    "    x0y1_plus_y0x1 = karatsuba(var2, var3)-var4-var5\n",
    "    return (10**(var1*2))*(r)+(x0y1_plus_y0x1)*(10**var1)+var5"
   ]
  },
  {
   "cell_type": "markdown",
   "metadata": {},
   "source": [
    "Time Complexity: \n",
    "$$T(n) = 3T(\\dfrac{n}{2})+n$$\n",
    "$$\\Rightarrow T(n) = 3(3T(\\dfrac{n}{4})+\\dfrac{n}{2})+n$$\n",
    "$$\\Rightarrow T(n) = 3^2T(\\dfrac{n}{2^2})+(\\dfrac{3}{2}+1)n$$\n",
    "$$\\ldots \\ldots \\text{after k steps}$$\n",
    "\n",
    "$$\\Rightarrow T(n) = 3^kT(\\dfrac{n}{2^k})+((\\dfrac{3}{2})^{k-1}+\\ldots+\\dfrac{3}{2}+1)n$$\n",
    "\n",
    "After $\\log_2n$ steps; \n",
    "\n",
    "$$\\Rightarrow T(n) = 3^{\\log_2n}T(1)+((\\dfrac{3}{2})^{\\log_2n -1}+\\ldots+\\dfrac{3}{2}+1)n$$\n",
    "\n",
    "$$\\Rightarrow T(n) = \\mathcal{O}(n^{1.59})$$\n",
    "\n",
    "or Using Master Theorem\n",
    "\n",
    "$$T(n) = 3T(\\dfrac{n}{2})+n \\Rightarrow T(n) = \\mathcal{O}(3^{\\log_n2}) = \\mathcal{O}(n^{\\log_23}) = \\mathcal{O}(n^{1.59})$$"
   ]
  },
  {
   "cell_type": "code",
   "execution_count": null,
   "metadata": {},
   "outputs": [],
   "source": []
  }
 ],
 "metadata": {
  "interpreter": {
   "hash": "44473a1eb0116b87df4a58bce0d9ad9077fa71c5b8c5b7c94e45a09e2f16751b"
  },
  "kernelspec": {
   "display_name": "Python 3.8.8 64-bit ('base': conda)",
   "language": "python",
   "name": "python3"
  },
  "language_info": {
   "codemirror_mode": {
    "name": "ipython",
    "version": 3
   },
   "file_extension": ".py",
   "mimetype": "text/x-python",
   "name": "python",
   "nbconvert_exporter": "python",
   "pygments_lexer": "ipython3",
   "version": "3.8.8"
  },
  "orig_nbformat": 4
 },
 "nbformat": 4,
 "nbformat_minor": 2
}
